{
 "cells": [
  {
   "attachments": {},
   "cell_type": "markdown",
   "metadata": {},
   "source": [
    "Imports"
   ]
  },
  {
   "cell_type": "code",
   "execution_count": 1,
   "metadata": {},
   "outputs": [],
   "source": [
    "import pandas as pd\n",
    "import numpy as np"
   ]
  },
  {
   "attachments": {},
   "cell_type": "markdown",
   "metadata": {},
   "source": [
    "# Create data"
   ]
  },
  {
   "cell_type": "code",
   "execution_count": 6,
   "metadata": {},
   "outputs": [],
   "source": [
    "df = pd.DataFrame({'Loves Popcorn':[1,1,0,0,1,1,0], 'Loves Soda':[1,0,1,1,1,0,0], 'Age':[7,12,18,35,38,50,83],'Loves Cool as Ice':[0,0,1,1,1,0,0]})"
   ]
  },
  {
   "cell_type": "code",
   "execution_count": 7,
   "metadata": {},
   "outputs": [
    {
     "data": {
      "text/html": [
       "<div>\n",
       "<style scoped>\n",
       "    .dataframe tbody tr th:only-of-type {\n",
       "        vertical-align: middle;\n",
       "    }\n",
       "\n",
       "    .dataframe tbody tr th {\n",
       "        vertical-align: top;\n",
       "    }\n",
       "\n",
       "    .dataframe thead th {\n",
       "        text-align: right;\n",
       "    }\n",
       "</style>\n",
       "<table border=\"1\" class=\"dataframe\">\n",
       "  <thead>\n",
       "    <tr style=\"text-align: right;\">\n",
       "      <th></th>\n",
       "      <th>Loves Popcorn</th>\n",
       "      <th>Loves Soda</th>\n",
       "      <th>Age</th>\n",
       "      <th>Loves Cool as Ice</th>\n",
       "    </tr>\n",
       "  </thead>\n",
       "  <tbody>\n",
       "    <tr>\n",
       "      <th>0</th>\n",
       "      <td>1</td>\n",
       "      <td>1</td>\n",
       "      <td>7</td>\n",
       "      <td>0</td>\n",
       "    </tr>\n",
       "    <tr>\n",
       "      <th>1</th>\n",
       "      <td>1</td>\n",
       "      <td>0</td>\n",
       "      <td>12</td>\n",
       "      <td>0</td>\n",
       "    </tr>\n",
       "    <tr>\n",
       "      <th>2</th>\n",
       "      <td>0</td>\n",
       "      <td>1</td>\n",
       "      <td>18</td>\n",
       "      <td>1</td>\n",
       "    </tr>\n",
       "    <tr>\n",
       "      <th>3</th>\n",
       "      <td>0</td>\n",
       "      <td>1</td>\n",
       "      <td>35</td>\n",
       "      <td>1</td>\n",
       "    </tr>\n",
       "    <tr>\n",
       "      <th>4</th>\n",
       "      <td>1</td>\n",
       "      <td>1</td>\n",
       "      <td>38</td>\n",
       "      <td>1</td>\n",
       "    </tr>\n",
       "    <tr>\n",
       "      <th>5</th>\n",
       "      <td>1</td>\n",
       "      <td>0</td>\n",
       "      <td>50</td>\n",
       "      <td>0</td>\n",
       "    </tr>\n",
       "    <tr>\n",
       "      <th>6</th>\n",
       "      <td>0</td>\n",
       "      <td>0</td>\n",
       "      <td>83</td>\n",
       "      <td>0</td>\n",
       "    </tr>\n",
       "  </tbody>\n",
       "</table>\n",
       "</div>"
      ],
      "text/plain": [
       "   Loves Popcorn  Loves Soda  Age  Loves Cool as Ice\n",
       "0              1           1    7                  0\n",
       "1              1           0   12                  0\n",
       "2              0           1   18                  1\n",
       "3              0           1   35                  1\n",
       "4              1           1   38                  1\n",
       "5              1           0   50                  0\n",
       "6              0           0   83                  0"
      ]
     },
     "execution_count": 7,
     "metadata": {},
     "output_type": "execute_result"
    }
   ],
   "source": [
    "df"
   ]
  },
  {
   "attachments": {},
   "cell_type": "markdown",
   "metadata": {},
   "source": [
    "Define feature types"
   ]
  },
  {
   "cell_type": "code",
   "execution_count": 8,
   "metadata": {},
   "outputs": [],
   "source": [
    "categorical_features = ['Loves Popcorn', 'Loves Soda']\n",
    "numerical_features = ['Loves Cool as Ice']\n",
    "target = 'Loves Cool as Ice'"
   ]
  },
  {
   "attachments": {},
   "cell_type": "markdown",
   "metadata": {},
   "source": [
    "# 1. Find Feature for Root Node"
   ]
  },
  {
   "attachments": {},
   "cell_type": "markdown",
   "metadata": {},
   "source": [
    "## 1.1 Total Gini Impurity For each feature"
   ]
  },
  {
   "cell_type": "code",
   "execution_count": 9,
   "metadata": {},
   "outputs": [],
   "source": [
    "def leaf_gini_impurity(num_yes, num_no):\n",
    "\n",
    "    total = num_yes + num_no\n",
    "\n",
    "    gini_impurity = 1 - (num_yes/total)**2 -(num_no/total)**2\n",
    "\n",
    "    return gini_impurity"
   ]
  },
  {
   "attachments": {},
   "cell_type": "markdown",
   "metadata": {},
   "source": [
    "### 1.1.1 Categorical Features"
   ]
  },
  {
   "cell_type": "code",
   "execution_count": 10,
   "metadata": {},
   "outputs": [],
   "source": [
    "def binary_cat_feature_gini_impurity(feature, df):\n",
    "\n",
    "    #Initialise counts for leaves\n",
    "    leaves = {'Yes':[0, 0], 'No':[0, 0]}\n",
    "    \n",
    "    # When Feature is yes and target is yes\n",
    "    yes_yes_count = df[(df[feature] == 1) & (df[target] == 1)].shape[0]\n",
    "    leaves['Yes'][0] = yes_yes_count\n",
    "\n",
    "    # When Feature is yes and target is no\n",
    "    yes_no_count = df[(df[feature] == 1) & (df[target] == 0)].shape[0]\n",
    "    leaves['Yes'][1] = yes_no_count\n",
    "\n",
    "    # When Feature is no and target is yes\n",
    "    no_yes_count = df[(df[feature] == 0) & (df[target] == 1)].shape[0]\n",
    "    leaves['No'][0] = no_yes_count\n",
    "\n",
    "    # When Feature is no and target is no\n",
    "    no_no_count = df[(df[feature] == 0) & (df[target] == 0)].shape[0]\n",
    "    leaves['No'][1] = no_no_count\n",
    "\n",
    "    # Gini Impurity For Leaves\n",
    "    \n",
    "    # Gini Impurity Yes Leaf\n",
    "    gini_impurity_yes = leaf_gini_impurity(leaves['Yes'][0], leaves['Yes'][1])\n",
    "\n",
    "    # Gini Impurity No Leaf\n",
    "    gini_impurity_no = leaf_gini_impurity(leaves['No'][0], leaves['No'][1])\n",
    "\n",
    "    #Total Gini Impurity\n",
    "\n",
    "    total_yes_leaf = yes_yes_count + yes_no_count\n",
    "\n",
    "    total_no_leaf = no_yes_count + no_no_count\n",
    "\n",
    "    gini_impurity = total_yes_leaf *gini_impurity_yes/(total_yes_leaf+total_no_leaf) + total_no_leaf *gini_impurity_no/(total_yes_leaf+total_no_leaf)\n",
    "\n",
    "    return gini_impurity"
   ]
  },
  {
   "attachments": {},
   "cell_type": "markdown",
   "metadata": {},
   "source": [
    "### 1.1.2 Numerical Features"
   ]
  },
  {
   "cell_type": "code",
   "execution_count": null,
   "metadata": {},
   "outputs": [],
   "source": []
  }
 ],
 "metadata": {
  "kernelspec": {
   "display_name": "Python 3",
   "language": "python",
   "name": "python3"
  },
  "language_info": {
   "codemirror_mode": {
    "name": "ipython",
    "version": 3
   },
   "file_extension": ".py",
   "mimetype": "text/x-python",
   "name": "python",
   "nbconvert_exporter": "python",
   "pygments_lexer": "ipython3",
   "version": "3.10.7"
  },
  "orig_nbformat": 4
 },
 "nbformat": 4,
 "nbformat_minor": 2
}
